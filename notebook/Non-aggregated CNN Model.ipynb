{
 "cells": [
  {
   "cell_type": "code",
   "execution_count": 1,
   "metadata": {},
   "outputs": [
    {
     "name": "stderr",
     "output_type": "stream",
     "text": [
      "Using TensorFlow backend.\n"
     ]
    }
   ],
   "source": [
    "import os\n",
    "import warnings\n",
    "import joblib\n",
    "import numpy as np\n",
    "import pandas as pd\n",
    "import matplotlib.pyplot as plt\n",
    "\n",
    "# Packages for modelling\n",
    "import tensorflow as tf\n",
    "import keras.backend as K\n",
    "from keras.models import Sequential\n",
    "from keras.models import Model\n",
    "from keras.layers import Input\n",
    "from keras.layers import Embedding\n",
    "from keras.layers import Dense\n",
    "from keras.layers import Dropout\n",
    "from keras.layers import Activation\n",
    "from keras.layers import Conv1D\n",
    "from keras.layers import MaxPooling1D\n",
    "from keras.layers import Flatten\n",
    "from keras.preprocessing.text import Tokenizer\n",
    "from keras.preprocessing.sequence import pad_sequences\n",
    "from keras.utils import to_categorical\n",
    "from keras.callbacks import EarlyStopping\n",
    "from keras.callbacks import ReduceLROnPlateau"
   ]
  },
  {
   "cell_type": "markdown",
   "metadata": {},
   "source": [
    "# Data Preprocessing"
   ]
  },
  {
   "cell_type": "code",
   "execution_count": 2,
   "metadata": {},
   "outputs": [
    {
     "data": {
      "text/plain": [
       "date\n",
       "2017-01-01    Happy New Year, everyone! Like atUser just tol...\n",
       "2017-01-03    New Glaeser paper on real estate bubbles sugge...\n",
       "2017-01-04    China leading financial reformer Peoples Bank ...\n",
       "2017-01-05    Zhou Xiaochuan: Life for dogs !! - Sign the Pe...\n",
       "2017-01-06    bis Haruhiko Kuroda: A new phase of the global...\n",
       "Name: clean_tweet, dtype: object"
      ]
     },
     "execution_count": 2,
     "metadata": {},
     "output_type": "execute_result"
    }
   ],
   "source": [
    "df = joblib.load(\"../data/df_final_v3.gzip\")\n",
    "df[\"date\"] = pd.to_datetime(df[\"date\"])\n",
    "df = df[[\"date\", \"clean_tweet\"]]\n",
    "df = df.groupby(\"date\")[\"clean_tweet\"].agg(sum)\n",
    "df.head()"
   ]
  },
  {
   "cell_type": "code",
   "execution_count": 3,
   "metadata": {},
   "outputs": [
    {
     "data": {
      "text/html": [
       "<div>\n",
       "<style scoped>\n",
       "    .dataframe tbody tr th:only-of-type {\n",
       "        vertical-align: middle;\n",
       "    }\n",
       "\n",
       "    .dataframe tbody tr th {\n",
       "        vertical-align: top;\n",
       "    }\n",
       "\n",
       "    .dataframe thead th {\n",
       "        text-align: right;\n",
       "    }\n",
       "</style>\n",
       "<table border=\"1\" class=\"dataframe\">\n",
       "  <thead>\n",
       "    <tr style=\"text-align: right;\">\n",
       "      <th></th>\n",
       "      <th>date</th>\n",
       "      <th>Open</th>\n",
       "      <th>High</th>\n",
       "      <th>Low</th>\n",
       "      <th>Close</th>\n",
       "      <th>label</th>\n",
       "    </tr>\n",
       "  </thead>\n",
       "  <tbody>\n",
       "    <tr>\n",
       "      <th>1</th>\n",
       "      <td>2007-01-10</td>\n",
       "      <td>2.0434</td>\n",
       "      <td>2.0446</td>\n",
       "      <td>2.0370</td>\n",
       "      <td>2.0418</td>\n",
       "      <td>1</td>\n",
       "    </tr>\n",
       "    <tr>\n",
       "      <th>2</th>\n",
       "      <td>2007-01-11</td>\n",
       "      <td>2.0797</td>\n",
       "      <td>2.0874</td>\n",
       "      <td>2.0755</td>\n",
       "      <td>2.0801</td>\n",
       "      <td>1</td>\n",
       "    </tr>\n",
       "    <tr>\n",
       "      <th>3</th>\n",
       "      <td>2007-02-08</td>\n",
       "      <td>2.0324</td>\n",
       "      <td>2.0378</td>\n",
       "      <td>2.0282</td>\n",
       "      <td>2.0374</td>\n",
       "      <td>0</td>\n",
       "    </tr>\n",
       "    <tr>\n",
       "      <th>4</th>\n",
       "      <td>2007-02-11</td>\n",
       "      <td>2.0801</td>\n",
       "      <td>2.0898</td>\n",
       "      <td>2.0767</td>\n",
       "      <td>2.0894</td>\n",
       "      <td>1</td>\n",
       "    </tr>\n",
       "    <tr>\n",
       "      <th>5</th>\n",
       "      <td>2007-03-08</td>\n",
       "      <td>2.0374</td>\n",
       "      <td>2.0461</td>\n",
       "      <td>2.0339</td>\n",
       "      <td>2.0406</td>\n",
       "      <td>0</td>\n",
       "    </tr>\n",
       "  </tbody>\n",
       "</table>\n",
       "</div>"
      ],
      "text/plain": [
       "        date    Open    High     Low   Close  label\n",
       "1 2007-01-10  2.0434  2.0446  2.0370  2.0418      1\n",
       "2 2007-01-11  2.0797  2.0874  2.0755  2.0801      1\n",
       "3 2007-02-08  2.0324  2.0378  2.0282  2.0374      0\n",
       "4 2007-02-11  2.0801  2.0898  2.0767  2.0894      1\n",
       "5 2007-03-08  2.0374  2.0461  2.0339  2.0406      0"
      ]
     },
     "execution_count": 3,
     "metadata": {},
     "output_type": "execute_result"
    }
   ],
   "source": [
    "fx = pd.read_csv(\"../data/Currency_Data_GBPUSD.csv\", index_col=False)\n",
    "fx.columns = [\"currecny\", \"date\", \"Open\", \"High\", \"Low\", \"Close\"]\n",
    "fx[\"date\"] = pd.to_datetime(fx[\"date\"])\n",
    "fx.sort_values(by='date', inplace=True)\n",
    "fx.reset_index(drop=True, inplace=True)\n",
    "fx[\"label\"] = fx[\"Close\"].diff(periods=1)\n",
    "fx.dropna(inplace=True)\n",
    "fx.drop(\"currecny\", axis=1, inplace=True)\n",
    "fx[\"label\"] = fx[\"label\"].map(lambda x: 1 if float(x)>=0 else 0)\n",
    "fx.head()"
   ]
  },
  {
   "cell_type": "code",
   "execution_count": 4,
   "metadata": {},
   "outputs": [
    {
     "name": "stdout",
     "output_type": "stream",
     "text": [
      "2017-01-03 00:00:00\n",
      "2020-06-03 00:00:00\n"
     ]
    }
   ],
   "source": [
    "tweet_and_fx = pd.merge(df, fx, on=[\"date\"])\n",
    "tweet_and_fx.set_index('date', inplace=True)\n",
    "print(tweet_and_fx.index.min())\n",
    "print(tweet_and_fx.index.max())\n",
    "del df, fx"
   ]
  },
  {
   "cell_type": "code",
   "execution_count": 5,
   "metadata": {},
   "outputs": [
    {
     "data": {
      "text/html": [
       "<div>\n",
       "<style scoped>\n",
       "    .dataframe tbody tr th:only-of-type {\n",
       "        vertical-align: middle;\n",
       "    }\n",
       "\n",
       "    .dataframe tbody tr th {\n",
       "        vertical-align: top;\n",
       "    }\n",
       "\n",
       "    .dataframe thead th {\n",
       "        text-align: right;\n",
       "    }\n",
       "</style>\n",
       "<table border=\"1\" class=\"dataframe\">\n",
       "  <thead>\n",
       "    <tr style=\"text-align: right;\">\n",
       "      <th></th>\n",
       "      <th>content</th>\n",
       "      <th>label</th>\n",
       "    </tr>\n",
       "    <tr>\n",
       "      <th>date</th>\n",
       "      <th></th>\n",
       "      <th></th>\n",
       "    </tr>\n",
       "  </thead>\n",
       "  <tbody>\n",
       "    <tr>\n",
       "      <th>2017-01-03</th>\n",
       "      <td>New Glaeser paper on real estate bubbles sugge...</td>\n",
       "      <td>0</td>\n",
       "    </tr>\n",
       "    <tr>\n",
       "      <th>2017-01-06</th>\n",
       "      <td>bis Haruhiko Kuroda: A new phase of the global...</td>\n",
       "      <td>1</td>\n",
       "    </tr>\n",
       "    <tr>\n",
       "      <th>2017-01-13</th>\n",
       "      <td>Zhou Xiaochuan: Life for dogs !! - Sign the Pe...</td>\n",
       "      <td>0</td>\n",
       "    </tr>\n",
       "    <tr>\n",
       "      <th>2017-01-19</th>\n",
       "      <td>Interview with Haruhiko Kuroda, Governor of th...</td>\n",
       "      <td>0</td>\n",
       "    </tr>\n",
       "    <tr>\n",
       "      <th>2017-01-20</th>\n",
       "      <td>Haruhiko Kuroda of BoJ discusses Japans growth...</td>\n",
       "      <td>1</td>\n",
       "    </tr>\n",
       "  </tbody>\n",
       "</table>\n",
       "</div>"
      ],
      "text/plain": [
       "                                                      content  label\n",
       "date                                                                \n",
       "2017-01-03  New Glaeser paper on real estate bubbles sugge...      0\n",
       "2017-01-06  bis Haruhiko Kuroda: A new phase of the global...      1\n",
       "2017-01-13  Zhou Xiaochuan: Life for dogs !! - Sign the Pe...      0\n",
       "2017-01-19  Interview with Haruhiko Kuroda, Governor of th...      0\n",
       "2017-01-20  Haruhiko Kuroda of BoJ discusses Japans growth...      1"
      ]
     },
     "execution_count": 5,
     "metadata": {},
     "output_type": "execute_result"
    }
   ],
   "source": [
    "tweet_and_fx = tweet_and_fx[[\"clean_tweet\", \"label\"]]\n",
    "tweet_and_fx.columns = [\"content\", \"label\"]\n",
    "tweet_and_fx.head()"
   ]
  },
  {
   "cell_type": "markdown",
   "metadata": {},
   "source": [
    "# Word Embedding"
   ]
  },
  {
   "cell_type": "code",
   "execution_count": 6,
   "metadata": {},
   "outputs": [],
   "source": [
    "# Hyperparameters setting\n",
    "MAX_NB_WORDS = 10000\n",
    "MAX_SEQUENCE_LENGTH = 64\n",
    "VALIDATION_SPLIT = 0.2\n",
    "GLOVE_DIR = r\"F:\\embedding_file\"\n",
    "EMBEDDING_DIM = 300\n",
    "EPOCHS = 100\n",
    "BATCH_SIZE = 128"
   ]
  },
  {
   "cell_type": "code",
   "execution_count": 7,
   "metadata": {},
   "outputs": [
    {
     "name": "stderr",
     "output_type": "stream",
     "text": [
      "C:\\Users\\YangWang\\AppData\\Roaming\\Python\\Python37\\site-packages\\keras_preprocessing\\text.py:178: UserWarning: The `nb_words` argument in `Tokenizer` has been renamed `num_words`.\n",
      "  warnings.warn('The `nb_words` argument in `Tokenizer` '\n"
     ]
    },
    {
     "name": "stdout",
     "output_type": "stream",
     "text": [
      "Found 119323 unique tokens.\n",
      "Shape of data tensor: (737, 64)\n",
      "Shape of label tensor: (737, 2)\n"
     ]
    }
   ],
   "source": [
    "tokenizer = Tokenizer(num_words=MAX_NB_WORDS)\n",
    "tokenizer.fit_on_texts(tweet_and_fx.content)\n",
    "sequences = tokenizer.texts_to_sequences(tweet_and_fx.content)\n",
    "\n",
    "word_index = tokenizer.word_index\n",
    "print('Found %s unique tokens.' % len(word_index))\n",
    "\n",
    "data = pad_sequences(sequences, maxlen=MAX_SEQUENCE_LENGTH)\n",
    "\n",
    "labels = to_categorical(np.asarray(tweet_and_fx.label))\n",
    "print('Shape of data tensor:', data.shape)\n",
    "print('Shape of label tensor:', labels.shape)\n",
    "\n",
    "# Split the data into a training set and a validation set\n",
    "indices = np.arange(data.shape[0])\n",
    "data = data[indices]\n",
    "labels = labels[indices]\n",
    "nb_validation_samples = int(VALIDATION_SPLIT * data.shape[0])\n",
    "\n",
    "x_train = data[:-nb_validation_samples]\n",
    "y_train = labels[:-nb_validation_samples]\n",
    "x_val = data[-nb_validation_samples:]\n",
    "y_val = labels[-nb_validation_samples:]"
   ]
  },
  {
   "cell_type": "code",
   "execution_count": 8,
   "metadata": {},
   "outputs": [
    {
     "name": "stdout",
     "output_type": "stream",
     "text": [
      "Found 1917494 word vectors.\n"
     ]
    }
   ],
   "source": [
    "embeddings_index = {}\n",
    "f = open(os.path.join(GLOVE_DIR, 'glove.42B.300d.txt'), encoding=\"utf-8\")\n",
    "for line in f:\n",
    "    values = line.split()\n",
    "    word = values[0]\n",
    "    coefs = np.asarray(values[1:], dtype='float32')\n",
    "    embeddings_index[word] = coefs\n",
    "f.close()\n",
    "\n",
    "print('Found %s word vectors.' % len(embeddings_index))"
   ]
  },
  {
   "cell_type": "code",
   "execution_count": 9,
   "metadata": {},
   "outputs": [],
   "source": [
    "embedding_matrix = np.zeros((len(word_index) + 1, EMBEDDING_DIM))\n",
    "for word, i in word_index.items():\n",
    "    embedding_vector = embeddings_index.get(word)\n",
    "    if embedding_vector is not None:\n",
    "        # Words not found in embedding index will be all-zeros.\n",
    "        embedding_matrix[i] = embedding_vector"
   ]
  },
  {
   "cell_type": "code",
   "execution_count": 10,
   "metadata": {},
   "outputs": [],
   "source": [
    "embedding_layer = Embedding(len(word_index) + 1,\n",
    "                            EMBEDDING_DIM,\n",
    "                            weights=[embedding_matrix],\n",
    "                            input_length=MAX_SEQUENCE_LENGTH,\n",
    "                            trainable=False)"
   ]
  },
  {
   "cell_type": "markdown",
   "metadata": {},
   "source": [
    "# Modelling"
   ]
  },
  {
   "cell_type": "code",
   "execution_count": 11,
   "metadata": {},
   "outputs": [],
   "source": [
    "def get_f1(y_true, y_pred):\n",
    "    true_positives = K.sum(K.round(K.clip(y_true * y_pred, 0, 1)))\n",
    "    possible_positives = K.sum(K.round(K.clip(y_true, 0, 1)))\n",
    "    predicted_positives = K.sum(K.round(K.clip(y_pred, 0, 1)))\n",
    "    precision = true_positives / (predicted_positives + K.epsilon())\n",
    "    recall = true_positives / (possible_positives + K.epsilon())\n",
    "    f1_val = 2*(precision*recall)/(precision+recall+K.epsilon())\n",
    "    return f1_val"
   ]
  },
  {
   "cell_type": "code",
   "execution_count": 12,
   "metadata": {},
   "outputs": [
    {
     "name": "stdout",
     "output_type": "stream",
     "text": [
      "Train on 590 samples, validate on 147 samples\n",
      "Epoch 1/100\n",
      "590/590 [==============================] - 2s 3ms/step - loss: 0.7718 - get_f1: 0.4964 - val_loss: 0.7301 - val_get_f1: 0.4439\n",
      "Epoch 2/100\n",
      "590/590 [==============================] - 0s 46us/step - loss: 0.6912 - get_f1: 0.5074 - val_loss: 0.6886 - val_get_f1: 0.5629\n",
      "Epoch 3/100\n",
      "590/590 [==============================] - 0s 48us/step - loss: 0.6759 - get_f1: 0.5021 - val_loss: 0.7190 - val_get_f1: 0.4439\n",
      "Epoch 4/100\n",
      "590/590 [==============================] - 0s 50us/step - loss: 0.6503 - get_f1: 0.7296 - val_loss: 0.6929 - val_get_f1: 0.5249\n",
      "Epoch 5/100\n",
      "590/590 [==============================] - 0s 48us/step - loss: 0.6121 - get_f1: 0.8592 - val_loss: 0.7272 - val_get_f1: 0.4439\n",
      "Epoch 6/100\n",
      "590/590 [==============================] - 0s 48us/step - loss: 0.5710 - get_f1: 0.8228 - val_loss: 0.6925 - val_get_f1: 0.5853\n",
      "Epoch 7/100\n",
      "590/590 [==============================] - 0s 45us/step - loss: 0.5054 - get_f1: 0.9474 - val_loss: 0.7166 - val_get_f1: 0.4624\n",
      "Epoch 8/100\n",
      "590/590 [==============================] - 0s 48us/step - loss: 0.4179 - get_f1: 0.9871 - val_loss: 0.7199 - val_get_f1: 0.4780\n",
      "Epoch 9/100\n",
      "590/590 [==============================] - 0s 50us/step - loss: 0.3087 - get_f1: 0.9953 - val_loss: 0.7188 - val_get_f1: 0.6077\n",
      "Epoch 10/100\n",
      "590/590 [==============================] - 0s 50us/step - loss: 0.2173 - get_f1: 0.9906 - val_loss: 0.8180 - val_get_f1: 0.4663\n",
      "Epoch 11/100\n",
      "590/590 [==============================] - 0s 46us/step - loss: 0.1340 - get_f1: 0.9943 - val_loss: 0.7927 - val_get_f1: 0.4780\n",
      "Epoch 12/100\n",
      "590/590 [==============================] - 0s 45us/step - loss: 0.0658 - get_f1: 0.9984 - val_loss: 0.8826 - val_get_f1: 0.4780\n"
     ]
    }
   ],
   "source": [
    "sequence_input = Input(shape=(MAX_SEQUENCE_LENGTH, ), dtype='int32')\n",
    "embedded_sequences = embedding_layer(sequence_input)\n",
    "x = Conv1D(128, 3, padding=\"same\", activation='relu')(embedded_sequences)\n",
    "x = MaxPooling1D(pool_size=2)(x)\n",
    "x = Conv1D(128, 4, padding=\"same\", activation='relu')(x)\n",
    "x = MaxPooling1D(pool_size=2)(x)\n",
    "x = Conv1D(128, 5, padding=\"same\", activation='relu')(x)\n",
    "x = MaxPooling1D(16)(x)\n",
    "x = Flatten()(x)\n",
    "x = Dense(128, activation='relu')(x)\n",
    "preds = Dense(2, activation='softmax')(x)\n",
    "\n",
    "model = Model(sequence_input, preds)\n",
    "model.compile(loss='categorical_crossentropy',\n",
    "              optimizer='adam',\n",
    "              metrics=[get_f1])\n",
    "\n",
    "early_stopping = EarlyStopping(monitor='val_loss', patience=10, verbose=0, mode='auto')\n",
    "reduce_lr = ReduceLROnPlateau(monitor='val_loss', factor=0.2, patience=5, min_lr=0.001)\n",
    "\n",
    "# Let the rob hit the road!\n",
    "history = model.fit(\n",
    "    x_train, y_train, validation_data=(x_val, y_val),\n",
    "    epochs=EPOCHS, batch_size=BATCH_SIZE, callbacks=[early_stopping, reduce_lr])"
   ]
  },
  {
   "cell_type": "code",
   "execution_count": 13,
   "metadata": {},
   "outputs": [
    {
     "name": "stdout",
     "output_type": "stream",
     "text": [
      "Model: \"model_1\"\n",
      "_________________________________________________________________\n",
      "Layer (type)                 Output Shape              Param #   \n",
      "=================================================================\n",
      "input_1 (InputLayer)         (None, 64)                0         \n",
      "_________________________________________________________________\n",
      "embedding_1 (Embedding)      (None, 64, 300)           35797200  \n",
      "_________________________________________________________________\n",
      "conv1d_1 (Conv1D)            (None, 64, 128)           115328    \n",
      "_________________________________________________________________\n",
      "max_pooling1d_1 (MaxPooling1 (None, 32, 128)           0         \n",
      "_________________________________________________________________\n",
      "conv1d_2 (Conv1D)            (None, 32, 128)           65664     \n",
      "_________________________________________________________________\n",
      "max_pooling1d_2 (MaxPooling1 (None, 16, 128)           0         \n",
      "_________________________________________________________________\n",
      "conv1d_3 (Conv1D)            (None, 16, 128)           82048     \n",
      "_________________________________________________________________\n",
      "max_pooling1d_3 (MaxPooling1 (None, 1, 128)            0         \n",
      "_________________________________________________________________\n",
      "flatten_1 (Flatten)          (None, 128)               0         \n",
      "_________________________________________________________________\n",
      "dense_1 (Dense)              (None, 128)               16512     \n",
      "_________________________________________________________________\n",
      "dense_2 (Dense)              (None, 2)                 258       \n",
      "=================================================================\n",
      "Total params: 36,077,010\n",
      "Trainable params: 279,810\n",
      "Non-trainable params: 35,797,200\n",
      "_________________________________________________________________\n",
      "None\n"
     ]
    }
   ],
   "source": [
    "print(model.summary())"
   ]
  },
  {
   "cell_type": "code",
   "execution_count": 14,
   "metadata": {},
   "outputs": [],
   "source": [
    "def plot_history(history):\n",
    "    plt.style.use('ggplot')\n",
    "    # plot results\n",
    "    loss = history.history['loss']\n",
    "    val_loss = history.history['val_loss']\n",
    "\n",
    "    f1 = history.history['get_f1']\n",
    "    val_f1 = history.history['val_get_f1']\n",
    "\n",
    "    plt.figure(figsize=(20, 10))\n",
    "    plt.subplot(2, 1, 1)\n",
    "    plt.title('Loss')\n",
    "    epochs = len(loss)\n",
    "    plt.plot(range(epochs), loss, marker='.', label='loss')\n",
    "    plt.plot(range(epochs), val_loss, marker='.', label='val_loss')\n",
    "    plt.legend(loc='best')\n",
    "    ax = plt.gca()\n",
    "    ax.spines['bottom'].set_linewidth(5)\n",
    "    ax.spines['top'].set_linewidth(5)\n",
    "    ax.spines['right'].set_linewidth(5)\n",
    "    ax.spines['left'].set_linewidth(5)\n",
    "    ax.set_facecolor('snow')\n",
    "    plt.grid(color='lightgray', linestyle='-', linewidth=1)\n",
    "    plt.xlabel('epoch')\n",
    "    plt.ylabel('loss')\n",
    "\n",
    "    plt.subplot(2, 1, 2)\n",
    "    plt.title('F1 Score')\n",
    "    plt.plot(range(epochs), f1, marker='.', label='f1')\n",
    "    plt.plot(range(epochs), val_f1, marker='.', label='val_f1')\n",
    "    plt.legend(loc='best')\n",
    "    ax = plt.gca()\n",
    "    ax.spines['bottom'].set_linewidth(5)\n",
    "    ax.spines['top'].set_linewidth(5)\n",
    "    ax.spines['right'].set_linewidth(5)\n",
    "    ax.spines['left'].set_linewidth(5)\n",
    "    ax.set_facecolor('snow')\n",
    "    plt.grid(color='lightgray', linestyle='-', linewidth=1)\n",
    "    plt.xlabel('epoch')\n",
    "    plt.ylabel('f1')\n",
    "    plt.show()"
   ]
  },
  {
   "cell_type": "code",
   "execution_count": 15,
   "metadata": {},
   "outputs": [
    {
     "data": {
      "image/png": "[encoded data removed]",
      "text/plain": [
       "<Figure size 1440x720 with 2 Axes>"
      ]
     },
     "metadata": {},
     "output_type": "display_data"
    }
   ],
   "source": [
    "plot_history(history)"
   ]
  },
  {
   "cell_type": "code",
   "execution_count": null,
   "metadata": {},
   "outputs": [],
   "source": []
  }
 ],
 "metadata": {
  "kernelspec": {
   "display_name": "nlp",
   "language": "python",
   "name": "nlp"
  },
  "language_info": {
   "codemirror_mode": {
    "name": "ipython",
    "version": 3
   },
   "file_extension": ".py",
   "mimetype": "text/x-python",
   "name": "python",
   "nbconvert_exporter": "python",
   "pygments_lexer": "ipython3",
   "version": "3.7.3"
  }
 },
 "nbformat": 4,
 "nbformat_minor": 4
}
